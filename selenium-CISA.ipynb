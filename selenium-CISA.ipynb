{
 "cells": [
  {
   "cell_type": "code",
   "execution_count": 1,
   "metadata": {},
   "outputs": [
    {
     "name": "stdout",
     "output_type": "stream",
     "text": [
      "Source: Known Exploited Vulnerabilities Catalog | CISA \n",
      "\n",
      "Vulnerability Summary: GNU C Library's dynamic loader ld.so contains a buffer overflow vulnerability when processing the GLIBC_TUNABLES environment variable, allowing a local attacker to execute code with elevated privileges.\n"
     ]
    }
   ],
   "source": [
    "from selenium import webdriver\n",
    "from selenium.webdriver.common.by import By\n",
    "from selenium.webdriver.common.keys import Keys\n",
    "from selenium.common.exceptions import StaleElementReferenceException\n",
    "from selenium.webdriver.support.ui import WebDriverWait\n",
    "from selenium.webdriver.support import expected_conditions as EC\n",
    "\n",
    "def search_cve_vulnerability(cve_id):\n",
    "    # Create a new instance of the Firefox driver\n",
    "    driver = webdriver.Firefox()\n",
    "\n",
    "    # Navigate to the CISA Known Exploited Vulnerabilities Catalog page\n",
    "    url = \"https://www.cisa.gov/known-exploited-vulnerabilities-catalog\"\n",
    "    driver.get(url)\n",
    "    driver.maximize_window()\n",
    "\n",
    "    # Wait for the page to load (to accommodate slow networks)\n",
    "    driver.implicitly_wait(3)\n",
    "    print(f'Source: {driver.title} \\n')\n",
    "\n",
    "    try:\n",
    "        # Wait for the search bar to be present\n",
    "        search_bar = WebDriverWait(driver, 10).until(\n",
    "            EC.presence_of_element_located((By.ID, \"edit-search-api-fulltext\"))\n",
    "        )\n",
    "\n",
    "        # Type CVE ID and press Enter\n",
    "        search_bar.send_keys(cve_id)\n",
    "        search_bar.send_keys(Keys.RETURN)\n",
    "\n",
    "        # Wait for the summary element to be present\n",
    "        tags = WebDriverWait(driver, 10).until(\n",
    "            EC.presence_of_element_located((By.CLASS_NAME, \"c-teaser__summary\"))\n",
    "        )\n",
    "\n",
    "        print(\"Vulnerability Summary:\", tags.text)\n",
    "\n",
    "    except StaleElementReferenceException:\n",
    "        # If StaleElementReferenceException occurs, re-locate the element\n",
    "        tags = WebDriverWait(driver, 10).until(\n",
    "            EC.presence_of_element_located((By.CLASS_NAME, \"c-teaser__summary\"))\n",
    "        )\n",
    "\n",
    "        print(\"Vulnerability Summary (after exception handling):\", tags.text)\n",
    "\n",
    "    finally:\n",
    "        driver.close()\n",
    "\n",
    "\n",
    "search_cve_vulnerability(\"CVE-2023-4911\")\n"
   ]
  }
 ],
 "metadata": {
  "kernelspec": {
   "display_name": "Python 3",
   "language": "python",
   "name": "python3"
  },
  "language_info": {
   "codemirror_mode": {
    "name": "ipython",
    "version": 3
   },
   "file_extension": ".py",
   "mimetype": "text/x-python",
   "name": "python",
   "nbconvert_exporter": "python",
   "pygments_lexer": "ipython3",
   "version": "3.11.6"
  }
 },
 "nbformat": 4,
 "nbformat_minor": 2
}
